{
 "cells": [
  {
   "cell_type": "code",
   "execution_count": 1,
   "metadata": {
    "slideshow": {
     "slide_type": "notes"
    }
   },
   "outputs": [],
   "source": [
    "import pandas as pd\n",
    "import numpy as np\n",
    "import matplotlib.pyplot as plt\n",
    "from sklearn.preprocessing import LabelEncoder\n",
    "from sklearn.model_selection import train_test_split\n",
    "from sklearn.linear_model import LinearRegression\n",
    "from sklearn.metrics import r2_score"
   ]
  },
  {
   "cell_type": "code",
   "execution_count": 2,
   "metadata": {
    "slideshow": {
     "slide_type": "notes"
    }
   },
   "outputs": [],
   "source": [
    "data = pd.read_csv('insurance.csv')"
   ]
  },
  {
   "cell_type": "code",
   "execution_count": 3,
   "metadata": {
    "slideshow": {
     "slide_type": "notes"
    }
   },
   "outputs": [
    {
     "data": {
      "text/html": [
       "<div>\n",
       "<style scoped>\n",
       "    .dataframe tbody tr th:only-of-type {\n",
       "        vertical-align: middle;\n",
       "    }\n",
       "\n",
       "    .dataframe tbody tr th {\n",
       "        vertical-align: top;\n",
       "    }\n",
       "\n",
       "    .dataframe thead th {\n",
       "        text-align: right;\n",
       "    }\n",
       "</style>\n",
       "<table border=\"1\" class=\"dataframe\">\n",
       "  <thead>\n",
       "    <tr style=\"text-align: right;\">\n",
       "      <th></th>\n",
       "      <th>age</th>\n",
       "      <th>sex</th>\n",
       "      <th>bmi</th>\n",
       "      <th>children</th>\n",
       "      <th>smoker</th>\n",
       "      <th>region</th>\n",
       "      <th>charges</th>\n",
       "    </tr>\n",
       "  </thead>\n",
       "  <tbody>\n",
       "    <tr>\n",
       "      <th>0</th>\n",
       "      <td>19</td>\n",
       "      <td>female</td>\n",
       "      <td>27.900</td>\n",
       "      <td>0</td>\n",
       "      <td>yes</td>\n",
       "      <td>southwest</td>\n",
       "      <td>16884.92400</td>\n",
       "    </tr>\n",
       "    <tr>\n",
       "      <th>1</th>\n",
       "      <td>18</td>\n",
       "      <td>male</td>\n",
       "      <td>33.770</td>\n",
       "      <td>1</td>\n",
       "      <td>no</td>\n",
       "      <td>southeast</td>\n",
       "      <td>1725.55230</td>\n",
       "    </tr>\n",
       "    <tr>\n",
       "      <th>2</th>\n",
       "      <td>28</td>\n",
       "      <td>male</td>\n",
       "      <td>33.000</td>\n",
       "      <td>3</td>\n",
       "      <td>no</td>\n",
       "      <td>southeast</td>\n",
       "      <td>4449.46200</td>\n",
       "    </tr>\n",
       "    <tr>\n",
       "      <th>3</th>\n",
       "      <td>33</td>\n",
       "      <td>male</td>\n",
       "      <td>22.705</td>\n",
       "      <td>0</td>\n",
       "      <td>no</td>\n",
       "      <td>northwest</td>\n",
       "      <td>21984.47061</td>\n",
       "    </tr>\n",
       "  </tbody>\n",
       "</table>\n",
       "</div>"
      ],
      "text/plain": [
       "   age     sex     bmi  children smoker     region      charges\n",
       "0   19  female  27.900         0    yes  southwest  16884.92400\n",
       "1   18    male  33.770         1     no  southeast   1725.55230\n",
       "2   28    male  33.000         3     no  southeast   4449.46200\n",
       "3   33    male  22.705         0     no  northwest  21984.47061"
      ]
     },
     "execution_count": 3,
     "metadata": {},
     "output_type": "execute_result"
    }
   ],
   "source": [
    "data.head(4)"
   ]
  },
  {
   "cell_type": "code",
   "execution_count": 4,
   "metadata": {
    "slideshow": {
     "slide_type": "notes"
    }
   },
   "outputs": [],
   "source": [
    "sex_encoder = LabelEncoder()\n",
    "data['sex_n'] = sex_encoder.fit_transform(data['sex'])\n",
    "\n",
    "region_encoder = LabelEncoder()\n",
    "data['region_n'] = region_encoder.fit_transform(data['region'])\n",
    "\n",
    "smoker_encoder = LabelEncoder()\n",
    "data['smoker_n'] = smoker_encoder.fit_transform(data['smoker'])"
   ]
  },
  {
   "cell_type": "code",
   "execution_count": 5,
   "metadata": {
    "slideshow": {
     "slide_type": "notes"
    }
   },
   "outputs": [
    {
     "data": {
      "text/html": [
       "<div>\n",
       "<style scoped>\n",
       "    .dataframe tbody tr th:only-of-type {\n",
       "        vertical-align: middle;\n",
       "    }\n",
       "\n",
       "    .dataframe tbody tr th {\n",
       "        vertical-align: top;\n",
       "    }\n",
       "\n",
       "    .dataframe thead th {\n",
       "        text-align: right;\n",
       "    }\n",
       "</style>\n",
       "<table border=\"1\" class=\"dataframe\">\n",
       "  <thead>\n",
       "    <tr style=\"text-align: right;\">\n",
       "      <th></th>\n",
       "      <th>age</th>\n",
       "      <th>sex</th>\n",
       "      <th>bmi</th>\n",
       "      <th>children</th>\n",
       "      <th>smoker</th>\n",
       "      <th>region</th>\n",
       "      <th>charges</th>\n",
       "      <th>sex_n</th>\n",
       "      <th>region_n</th>\n",
       "      <th>smoker_n</th>\n",
       "    </tr>\n",
       "  </thead>\n",
       "  <tbody>\n",
       "    <tr>\n",
       "      <th>0</th>\n",
       "      <td>19</td>\n",
       "      <td>female</td>\n",
       "      <td>27.900</td>\n",
       "      <td>0</td>\n",
       "      <td>yes</td>\n",
       "      <td>southwest</td>\n",
       "      <td>16884.92400</td>\n",
       "      <td>0</td>\n",
       "      <td>3</td>\n",
       "      <td>1</td>\n",
       "    </tr>\n",
       "    <tr>\n",
       "      <th>1</th>\n",
       "      <td>18</td>\n",
       "      <td>male</td>\n",
       "      <td>33.770</td>\n",
       "      <td>1</td>\n",
       "      <td>no</td>\n",
       "      <td>southeast</td>\n",
       "      <td>1725.55230</td>\n",
       "      <td>1</td>\n",
       "      <td>2</td>\n",
       "      <td>0</td>\n",
       "    </tr>\n",
       "    <tr>\n",
       "      <th>2</th>\n",
       "      <td>28</td>\n",
       "      <td>male</td>\n",
       "      <td>33.000</td>\n",
       "      <td>3</td>\n",
       "      <td>no</td>\n",
       "      <td>southeast</td>\n",
       "      <td>4449.46200</td>\n",
       "      <td>1</td>\n",
       "      <td>2</td>\n",
       "      <td>0</td>\n",
       "    </tr>\n",
       "    <tr>\n",
       "      <th>3</th>\n",
       "      <td>33</td>\n",
       "      <td>male</td>\n",
       "      <td>22.705</td>\n",
       "      <td>0</td>\n",
       "      <td>no</td>\n",
       "      <td>northwest</td>\n",
       "      <td>21984.47061</td>\n",
       "      <td>1</td>\n",
       "      <td>1</td>\n",
       "      <td>0</td>\n",
       "    </tr>\n",
       "  </tbody>\n",
       "</table>\n",
       "</div>"
      ],
      "text/plain": [
       "   age     sex     bmi  children smoker     region      charges  sex_n  \\\n",
       "0   19  female  27.900         0    yes  southwest  16884.92400      0   \n",
       "1   18    male  33.770         1     no  southeast   1725.55230      1   \n",
       "2   28    male  33.000         3     no  southeast   4449.46200      1   \n",
       "3   33    male  22.705         0     no  northwest  21984.47061      1   \n",
       "\n",
       "   region_n  smoker_n  \n",
       "0         3         1  \n",
       "1         2         0  \n",
       "2         2         0  \n",
       "3         1         0  "
      ]
     },
     "execution_count": 5,
     "metadata": {},
     "output_type": "execute_result"
    }
   ],
   "source": [
    "data.head(4)"
   ]
  },
  {
   "cell_type": "code",
   "execution_count": 8,
   "metadata": {},
   "outputs": [
    {
     "data": {
      "text/html": [
       "<style  type=\"text/css\" >\n",
       "    #T_e3a78fa4_2a46_11ec_a9e4_acde48001122row0_col0 {\n",
       "            background-color:  #b40426;\n",
       "            color:  #f1f1f1;\n",
       "        }    #T_e3a78fa4_2a46_11ec_a9e4_acde48001122row0_col1 {\n",
       "            background-color:  #5b7ae5;\n",
       "            color:  #000000;\n",
       "        }    #T_e3a78fa4_2a46_11ec_a9e4_acde48001122row0_col2 {\n",
       "            background-color:  #445acc;\n",
       "            color:  #f1f1f1;\n",
       "        }    #T_e3a78fa4_2a46_11ec_a9e4_acde48001122row0_col3 {\n",
       "            background-color:  #9fbfff;\n",
       "            color:  #000000;\n",
       "        }    #T_e3a78fa4_2a46_11ec_a9e4_acde48001122row0_col4 {\n",
       "            background-color:  #3b4cc0;\n",
       "            color:  #f1f1f1;\n",
       "        }    #T_e3a78fa4_2a46_11ec_a9e4_acde48001122row0_col5 {\n",
       "            background-color:  #3d50c3;\n",
       "            color:  #f1f1f1;\n",
       "        }    #T_e3a78fa4_2a46_11ec_a9e4_acde48001122row0_col6 {\n",
       "            background-color:  #3b4cc0;\n",
       "            color:  #f1f1f1;\n",
       "        }    #T_e3a78fa4_2a46_11ec_a9e4_acde48001122row1_col0 {\n",
       "            background-color:  #6384eb;\n",
       "            color:  #000000;\n",
       "        }    #T_e3a78fa4_2a46_11ec_a9e4_acde48001122row1_col1 {\n",
       "            background-color:  #b40426;\n",
       "            color:  #f1f1f1;\n",
       "        }    #T_e3a78fa4_2a46_11ec_a9e4_acde48001122row1_col2 {\n",
       "            background-color:  #3c4ec2;\n",
       "            color:  #f1f1f1;\n",
       "        }    #T_e3a78fa4_2a46_11ec_a9e4_acde48001122row1_col3 {\n",
       "            background-color:  #7da0f9;\n",
       "            color:  #000000;\n",
       "        }    #T_e3a78fa4_2a46_11ec_a9e4_acde48001122row1_col4 {\n",
       "            background-color:  #4e68d8;\n",
       "            color:  #000000;\n",
       "        }    #T_e3a78fa4_2a46_11ec_a9e4_acde48001122row1_col5 {\n",
       "            background-color:  #6e90f2;\n",
       "            color:  #000000;\n",
       "        }    #T_e3a78fa4_2a46_11ec_a9e4_acde48001122row1_col6 {\n",
       "            background-color:  #4358cb;\n",
       "            color:  #f1f1f1;\n",
       "        }    #T_e3a78fa4_2a46_11ec_a9e4_acde48001122row2_col0 {\n",
       "            background-color:  #4e68d8;\n",
       "            color:  #000000;\n",
       "        }    #T_e3a78fa4_2a46_11ec_a9e4_acde48001122row2_col1 {\n",
       "            background-color:  #3d50c3;\n",
       "            color:  #f1f1f1;\n",
       "        }    #T_e3a78fa4_2a46_11ec_a9e4_acde48001122row2_col2 {\n",
       "            background-color:  #b40426;\n",
       "            color:  #f1f1f1;\n",
       "        }    #T_e3a78fa4_2a46_11ec_a9e4_acde48001122row2_col3 {\n",
       "            background-color:  #506bda;\n",
       "            color:  #000000;\n",
       "        }    #T_e3a78fa4_2a46_11ec_a9e4_acde48001122row2_col4 {\n",
       "            background-color:  #455cce;\n",
       "            color:  #f1f1f1;\n",
       "        }    #T_e3a78fa4_2a46_11ec_a9e4_acde48001122row2_col5 {\n",
       "            background-color:  #4055c8;\n",
       "            color:  #f1f1f1;\n",
       "        }    #T_e3a78fa4_2a46_11ec_a9e4_acde48001122row2_col6 {\n",
       "            background-color:  #445acc;\n",
       "            color:  #f1f1f1;\n",
       "        }    #T_e3a78fa4_2a46_11ec_a9e4_acde48001122row3_col0 {\n",
       "            background-color:  #a3c2fe;\n",
       "            color:  #000000;\n",
       "        }    #T_e3a78fa4_2a46_11ec_a9e4_acde48001122row3_col1 {\n",
       "            background-color:  #7a9df8;\n",
       "            color:  #000000;\n",
       "        }    #T_e3a78fa4_2a46_11ec_a9e4_acde48001122row3_col2 {\n",
       "            background-color:  #4c66d6;\n",
       "            color:  #000000;\n",
       "        }    #T_e3a78fa4_2a46_11ec_a9e4_acde48001122row3_col3 {\n",
       "            background-color:  #b40426;\n",
       "            color:  #f1f1f1;\n",
       "        }    #T_e3a78fa4_2a46_11ec_a9e4_acde48001122row3_col4 {\n",
       "            background-color:  #516ddb;\n",
       "            color:  #000000;\n",
       "        }    #T_e3a78fa4_2a46_11ec_a9e4_acde48001122row3_col5 {\n",
       "            background-color:  #3b4cc0;\n",
       "            color:  #f1f1f1;\n",
       "        }    #T_e3a78fa4_2a46_11ec_a9e4_acde48001122row3_col6 {\n",
       "            background-color:  #ef886b;\n",
       "            color:  #000000;\n",
       "        }    #T_e3a78fa4_2a46_11ec_a9e4_acde48001122row4_col0 {\n",
       "            background-color:  #3c4ec2;\n",
       "            color:  #f1f1f1;\n",
       "        }    #T_e3a78fa4_2a46_11ec_a9e4_acde48001122row4_col1 {\n",
       "            background-color:  #465ecf;\n",
       "            color:  #f1f1f1;\n",
       "        }    #T_e3a78fa4_2a46_11ec_a9e4_acde48001122row4_col2 {\n",
       "            background-color:  #3d50c3;\n",
       "            color:  #f1f1f1;\n",
       "        }    #T_e3a78fa4_2a46_11ec_a9e4_acde48001122row4_col3 {\n",
       "            background-color:  #4e68d8;\n",
       "            color:  #000000;\n",
       "        }    #T_e3a78fa4_2a46_11ec_a9e4_acde48001122row4_col4 {\n",
       "            background-color:  #b40426;\n",
       "            color:  #f1f1f1;\n",
       "        }    #T_e3a78fa4_2a46_11ec_a9e4_acde48001122row4_col5 {\n",
       "            background-color:  #3d50c3;\n",
       "            color:  #f1f1f1;\n",
       "        }    #T_e3a78fa4_2a46_11ec_a9e4_acde48001122row4_col6 {\n",
       "            background-color:  #5977e3;\n",
       "            color:  #000000;\n",
       "        }    #T_e3a78fa4_2a46_11ec_a9e4_acde48001122row5_col0 {\n",
       "            background-color:  #4257c9;\n",
       "            color:  #f1f1f1;\n",
       "        }    #T_e3a78fa4_2a46_11ec_a9e4_acde48001122row5_col1 {\n",
       "            background-color:  #6b8df0;\n",
       "            color:  #000000;\n",
       "        }    #T_e3a78fa4_2a46_11ec_a9e4_acde48001122row5_col2 {\n",
       "            background-color:  #3d50c3;\n",
       "            color:  #f1f1f1;\n",
       "        }    #T_e3a78fa4_2a46_11ec_a9e4_acde48001122row5_col3 {\n",
       "            background-color:  #3b4cc0;\n",
       "            color:  #f1f1f1;\n",
       "        }    #T_e3a78fa4_2a46_11ec_a9e4_acde48001122row5_col4 {\n",
       "            background-color:  #4257c9;\n",
       "            color:  #f1f1f1;\n",
       "        }    #T_e3a78fa4_2a46_11ec_a9e4_acde48001122row5_col5 {\n",
       "            background-color:  #b40426;\n",
       "            color:  #f1f1f1;\n",
       "        }    #T_e3a78fa4_2a46_11ec_a9e4_acde48001122row5_col6 {\n",
       "            background-color:  #4055c8;\n",
       "            color:  #f1f1f1;\n",
       "        }    #T_e3a78fa4_2a46_11ec_a9e4_acde48001122row6_col0 {\n",
       "            background-color:  #3b4cc0;\n",
       "            color:  #f1f1f1;\n",
       "        }    #T_e3a78fa4_2a46_11ec_a9e4_acde48001122row6_col1 {\n",
       "            background-color:  #3b4cc0;\n",
       "            color:  #f1f1f1;\n",
       "        }    #T_e3a78fa4_2a46_11ec_a9e4_acde48001122row6_col2 {\n",
       "            background-color:  #3b4cc0;\n",
       "            color:  #f1f1f1;\n",
       "        }    #T_e3a78fa4_2a46_11ec_a9e4_acde48001122row6_col3 {\n",
       "            background-color:  #f08a6c;\n",
       "            color:  #000000;\n",
       "        }    #T_e3a78fa4_2a46_11ec_a9e4_acde48001122row6_col4 {\n",
       "            background-color:  #5875e1;\n",
       "            color:  #000000;\n",
       "        }    #T_e3a78fa4_2a46_11ec_a9e4_acde48001122row6_col5 {\n",
       "            background-color:  #3c4ec2;\n",
       "            color:  #f1f1f1;\n",
       "        }    #T_e3a78fa4_2a46_11ec_a9e4_acde48001122row6_col6 {\n",
       "            background-color:  #b40426;\n",
       "            color:  #f1f1f1;\n",
       "        }</style><table id=\"T_e3a78fa4_2a46_11ec_a9e4_acde48001122\" ><thead>    <tr>        <th class=\"blank level0\" ></th>        <th class=\"col_heading level0 col0\" >age</th>        <th class=\"col_heading level0 col1\" >bmi</th>        <th class=\"col_heading level0 col2\" >children</th>        <th class=\"col_heading level0 col3\" >charges</th>        <th class=\"col_heading level0 col4\" >sex_n</th>        <th class=\"col_heading level0 col5\" >region_n</th>        <th class=\"col_heading level0 col6\" >smoker_n</th>    </tr></thead><tbody>\n",
       "                <tr>\n",
       "                        <th id=\"T_e3a78fa4_2a46_11ec_a9e4_acde48001122level0_row0\" class=\"row_heading level0 row0\" >age</th>\n",
       "                        <td id=\"T_e3a78fa4_2a46_11ec_a9e4_acde48001122row0_col0\" class=\"data row0 col0\" >1.000000</td>\n",
       "                        <td id=\"T_e3a78fa4_2a46_11ec_a9e4_acde48001122row0_col1\" class=\"data row0 col1\" >0.109272</td>\n",
       "                        <td id=\"T_e3a78fa4_2a46_11ec_a9e4_acde48001122row0_col2\" class=\"data row0 col2\" >0.042469</td>\n",
       "                        <td id=\"T_e3a78fa4_2a46_11ec_a9e4_acde48001122row0_col3\" class=\"data row0 col3\" >0.299008</td>\n",
       "                        <td id=\"T_e3a78fa4_2a46_11ec_a9e4_acde48001122row0_col4\" class=\"data row0 col4\" >-0.020856</td>\n",
       "                        <td id=\"T_e3a78fa4_2a46_11ec_a9e4_acde48001122row0_col5\" class=\"data row0 col5\" >0.002127</td>\n",
       "                        <td id=\"T_e3a78fa4_2a46_11ec_a9e4_acde48001122row0_col6\" class=\"data row0 col6\" >-0.025019</td>\n",
       "            </tr>\n",
       "            <tr>\n",
       "                        <th id=\"T_e3a78fa4_2a46_11ec_a9e4_acde48001122level0_row1\" class=\"row_heading level0 row1\" >bmi</th>\n",
       "                        <td id=\"T_e3a78fa4_2a46_11ec_a9e4_acde48001122row1_col0\" class=\"data row1 col0\" >0.109272</td>\n",
       "                        <td id=\"T_e3a78fa4_2a46_11ec_a9e4_acde48001122row1_col1\" class=\"data row1 col1\" >1.000000</td>\n",
       "                        <td id=\"T_e3a78fa4_2a46_11ec_a9e4_acde48001122row1_col2\" class=\"data row1 col2\" >0.012759</td>\n",
       "                        <td id=\"T_e3a78fa4_2a46_11ec_a9e4_acde48001122row1_col3\" class=\"data row1 col3\" >0.198341</td>\n",
       "                        <td id=\"T_e3a78fa4_2a46_11ec_a9e4_acde48001122row1_col4\" class=\"data row1 col4\" >0.046371</td>\n",
       "                        <td id=\"T_e3a78fa4_2a46_11ec_a9e4_acde48001122row1_col5\" class=\"data row1 col5\" >0.157566</td>\n",
       "                        <td id=\"T_e3a78fa4_2a46_11ec_a9e4_acde48001122row1_col6\" class=\"data row1 col6\" >0.003750</td>\n",
       "            </tr>\n",
       "            <tr>\n",
       "                        <th id=\"T_e3a78fa4_2a46_11ec_a9e4_acde48001122level0_row2\" class=\"row_heading level0 row2\" >children</th>\n",
       "                        <td id=\"T_e3a78fa4_2a46_11ec_a9e4_acde48001122row2_col0\" class=\"data row2 col0\" >0.042469</td>\n",
       "                        <td id=\"T_e3a78fa4_2a46_11ec_a9e4_acde48001122row2_col1\" class=\"data row2 col1\" >0.012759</td>\n",
       "                        <td id=\"T_e3a78fa4_2a46_11ec_a9e4_acde48001122row2_col2\" class=\"data row2 col2\" >1.000000</td>\n",
       "                        <td id=\"T_e3a78fa4_2a46_11ec_a9e4_acde48001122row2_col3\" class=\"data row2 col3\" >0.067998</td>\n",
       "                        <td id=\"T_e3a78fa4_2a46_11ec_a9e4_acde48001122row2_col4\" class=\"data row2 col4\" >0.017163</td>\n",
       "                        <td id=\"T_e3a78fa4_2a46_11ec_a9e4_acde48001122row2_col5\" class=\"data row2 col5\" >0.016569</td>\n",
       "                        <td id=\"T_e3a78fa4_2a46_11ec_a9e4_acde48001122row2_col6\" class=\"data row2 col6\" >0.007673</td>\n",
       "            </tr>\n",
       "            <tr>\n",
       "                        <th id=\"T_e3a78fa4_2a46_11ec_a9e4_acde48001122level0_row3\" class=\"row_heading level0 row3\" >charges</th>\n",
       "                        <td id=\"T_e3a78fa4_2a46_11ec_a9e4_acde48001122row3_col0\" class=\"data row3 col0\" >0.299008</td>\n",
       "                        <td id=\"T_e3a78fa4_2a46_11ec_a9e4_acde48001122row3_col1\" class=\"data row3 col1\" >0.198341</td>\n",
       "                        <td id=\"T_e3a78fa4_2a46_11ec_a9e4_acde48001122row3_col2\" class=\"data row3 col2\" >0.067998</td>\n",
       "                        <td id=\"T_e3a78fa4_2a46_11ec_a9e4_acde48001122row3_col3\" class=\"data row3 col3\" >1.000000</td>\n",
       "                        <td id=\"T_e3a78fa4_2a46_11ec_a9e4_acde48001122row3_col4\" class=\"data row3 col4\" >0.057292</td>\n",
       "                        <td id=\"T_e3a78fa4_2a46_11ec_a9e4_acde48001122row3_col5\" class=\"data row3 col5\" >-0.006208</td>\n",
       "                        <td id=\"T_e3a78fa4_2a46_11ec_a9e4_acde48001122row3_col6\" class=\"data row3 col6\" >0.787251</td>\n",
       "            </tr>\n",
       "            <tr>\n",
       "                        <th id=\"T_e3a78fa4_2a46_11ec_a9e4_acde48001122level0_row4\" class=\"row_heading level0 row4\" >sex_n</th>\n",
       "                        <td id=\"T_e3a78fa4_2a46_11ec_a9e4_acde48001122row4_col0\" class=\"data row4 col0\" >-0.020856</td>\n",
       "                        <td id=\"T_e3a78fa4_2a46_11ec_a9e4_acde48001122row4_col1\" class=\"data row4 col1\" >0.046371</td>\n",
       "                        <td id=\"T_e3a78fa4_2a46_11ec_a9e4_acde48001122row4_col2\" class=\"data row4 col2\" >0.017163</td>\n",
       "                        <td id=\"T_e3a78fa4_2a46_11ec_a9e4_acde48001122row4_col3\" class=\"data row4 col3\" >0.057292</td>\n",
       "                        <td id=\"T_e3a78fa4_2a46_11ec_a9e4_acde48001122row4_col4\" class=\"data row4 col4\" >1.000000</td>\n",
       "                        <td id=\"T_e3a78fa4_2a46_11ec_a9e4_acde48001122row4_col5\" class=\"data row4 col5\" >0.004588</td>\n",
       "                        <td id=\"T_e3a78fa4_2a46_11ec_a9e4_acde48001122row4_col6\" class=\"data row4 col6\" >0.076185</td>\n",
       "            </tr>\n",
       "            <tr>\n",
       "                        <th id=\"T_e3a78fa4_2a46_11ec_a9e4_acde48001122level0_row5\" class=\"row_heading level0 row5\" >region_n</th>\n",
       "                        <td id=\"T_e3a78fa4_2a46_11ec_a9e4_acde48001122row5_col0\" class=\"data row5 col0\" >0.002127</td>\n",
       "                        <td id=\"T_e3a78fa4_2a46_11ec_a9e4_acde48001122row5_col1\" class=\"data row5 col1\" >0.157566</td>\n",
       "                        <td id=\"T_e3a78fa4_2a46_11ec_a9e4_acde48001122row5_col2\" class=\"data row5 col2\" >0.016569</td>\n",
       "                        <td id=\"T_e3a78fa4_2a46_11ec_a9e4_acde48001122row5_col3\" class=\"data row5 col3\" >-0.006208</td>\n",
       "                        <td id=\"T_e3a78fa4_2a46_11ec_a9e4_acde48001122row5_col4\" class=\"data row5 col4\" >0.004588</td>\n",
       "                        <td id=\"T_e3a78fa4_2a46_11ec_a9e4_acde48001122row5_col5\" class=\"data row5 col5\" >1.000000</td>\n",
       "                        <td id=\"T_e3a78fa4_2a46_11ec_a9e4_acde48001122row5_col6\" class=\"data row5 col6\" >-0.002181</td>\n",
       "            </tr>\n",
       "            <tr>\n",
       "                        <th id=\"T_e3a78fa4_2a46_11ec_a9e4_acde48001122level0_row6\" class=\"row_heading level0 row6\" >smoker_n</th>\n",
       "                        <td id=\"T_e3a78fa4_2a46_11ec_a9e4_acde48001122row6_col0\" class=\"data row6 col0\" >-0.025019</td>\n",
       "                        <td id=\"T_e3a78fa4_2a46_11ec_a9e4_acde48001122row6_col1\" class=\"data row6 col1\" >0.003750</td>\n",
       "                        <td id=\"T_e3a78fa4_2a46_11ec_a9e4_acde48001122row6_col2\" class=\"data row6 col2\" >0.007673</td>\n",
       "                        <td id=\"T_e3a78fa4_2a46_11ec_a9e4_acde48001122row6_col3\" class=\"data row6 col3\" >0.787251</td>\n",
       "                        <td id=\"T_e3a78fa4_2a46_11ec_a9e4_acde48001122row6_col4\" class=\"data row6 col4\" >0.076185</td>\n",
       "                        <td id=\"T_e3a78fa4_2a46_11ec_a9e4_acde48001122row6_col5\" class=\"data row6 col5\" >-0.002181</td>\n",
       "                        <td id=\"T_e3a78fa4_2a46_11ec_a9e4_acde48001122row6_col6\" class=\"data row6 col6\" >1.000000</td>\n",
       "            </tr>\n",
       "    </tbody></table>"
      ],
      "text/plain": [
       "<pandas.io.formats.style.Styler at 0x7fcab868c668>"
      ]
     },
     "execution_count": 8,
     "metadata": {},
     "output_type": "execute_result"
    }
   ],
   "source": [
    "corr = data.corr()\n",
    "corr.style.background_gradient(cmap='coolwarm')"
   ]
  },
  {
   "cell_type": "code",
   "execution_count": 9,
   "metadata": {
    "slideshow": {
     "slide_type": "notes"
    }
   },
   "outputs": [],
   "source": [
    "X = data[['age','bmi','children','sex_n','smoker_n']]\n",
    "y = data['charges']\n",
    "X_train, X_test, y_train, y_test = train_test_split(\n",
    "    X, y, test_size=0.33, random_state=42)"
   ]
  },
  {
   "cell_type": "code",
   "execution_count": 10,
   "metadata": {
    "slideshow": {
     "slide_type": "notes"
    }
   },
   "outputs": [
    {
     "data": {
      "text/plain": [
       "LinearRegression(copy_X=True, fit_intercept=True, n_jobs=None, normalize=False)"
      ]
     },
     "execution_count": 10,
     "metadata": {},
     "output_type": "execute_result"
    }
   ],
   "source": [
    "model = LinearRegression()\n",
    "model.fit(X_train,y_train)"
   ]
  },
  {
   "cell_type": "code",
   "execution_count": 11,
   "metadata": {
    "slideshow": {
     "slide_type": "notes"
    }
   },
   "outputs": [],
   "source": [
    "y_pred = model.predict(X_test)"
   ]
  },
  {
   "cell_type": "code",
   "execution_count": 12,
   "metadata": {
    "slideshow": {
     "slide_type": "notes"
    }
   },
   "outputs": [],
   "source": [
    "score=r2_score(y_test,y_pred)"
   ]
  },
  {
   "cell_type": "code",
   "execution_count": 13,
   "metadata": {
    "slideshow": {
     "slide_type": "notes"
    }
   },
   "outputs": [
    {
     "data": {
      "text/plain": [
       "0.7587422388407032"
      ]
     },
     "execution_count": 13,
     "metadata": {},
     "output_type": "execute_result"
    }
   ],
   "source": [
    "score"
   ]
  },
  {
   "cell_type": "code",
   "execution_count": null,
   "metadata": {},
   "outputs": [],
   "source": []
  }
 ],
 "metadata": {
  "kernelspec": {
   "display_name": "Python 3",
   "language": "python",
   "name": "python3"
  },
  "language_info": {
   "codemirror_mode": {
    "name": "ipython",
    "version": 3
   },
   "file_extension": ".py",
   "mimetype": "text/x-python",
   "name": "python",
   "nbconvert_exporter": "python",
   "pygments_lexer": "ipython3",
   "version": "3.7.3"
  }
 },
 "nbformat": 4,
 "nbformat_minor": 2
}
